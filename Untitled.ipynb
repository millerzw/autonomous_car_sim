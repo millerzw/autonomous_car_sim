{
 "cells": [
  {
   "cell_type": "code",
   "execution_count": 3,
   "id": "8e2e2abc",
   "metadata": {},
   "outputs": [],
   "source": [
    "from tkinter import *\n",
    "window = Tk()"
   ]
  },
  {
   "cell_type": "code",
   "execution_count": 14,
   "id": "3b993977",
   "metadata": {
    "jupyter": {
     "source_hidden": true
    },
    "tags": []
   },
   "outputs": [
    {
     "name": "stdout",
     "output_type": "stream",
     "text": [
      "a\n",
      "a\n",
      "a\n",
      "a\n",
      "a\n",
      "a\n",
      "a\n",
      "a\n",
      "a\n",
      "a\n",
      "a\n",
      "a\n",
      "a\n",
      "a\n",
      "a\n",
      "a\n",
      "b\n",
      "b\n",
      "b\n",
      "b\n",
      "b\n",
      "b\n",
      "b\n",
      "b\n",
      "b\n",
      "b\n",
      "b\n",
      "b\n",
      "b\n",
      "b\n"
     ]
    }
   ],
   "source": [
    "import keyboard\n",
    "from time import time\n",
    "\n",
    "lastTime = time()\n",
    "freq = 50\n",
    "processTime = 1 / freq\n",
    "\n",
    "while True:\n",
    "    currTime = time()\n",
    "    if currTime > (lastTime+processTime):\n",
    "        if keyboard.is_pressed('a'):\n",
    "            print('a')\n",
    "        if keyboard.is_pressed('b'):\n",
    "            print('b')\n",
    "        \n",
    "        keyboard.add_abbreviation\n",
    "        if keyboard.is_pressed('q'):\n",
    "            break\n",
    "            \n",
    "        lastTime = currTime"
   ]
  },
  {
   "cell_type": "code",
   "execution_count": 54,
   "id": "94330967-97ff-42f7-884f-eedb10df3155",
   "metadata": {},
   "outputs": [
    {
     "name": "stdout",
     "output_type": "stream",
     "text": [
      "200.0\n"
     ]
    }
   ],
   "source": [
    "from tkinter import *\n",
    "import car\n",
    "\n",
    "GAME_WIDTH = 800\n",
    "GAME_HEIGHT = 1000\n",
    "\n",
    "ROAD_WIDTH = 400\n",
    "\n",
    "ROAD_COLOR = '#5A5A5A'\n",
    "BACKROUND_COLOR = '#000000'\n",
    "\n",
    "class Car():\n",
    "    \n",
    "    \n",
    "    def __init__(self, x, y, width, height):\n",
    "        self.x = x\n",
    "        self.y = y\n",
    "        self.width=width\n",
    "        self.height=height\n",
    "        \n",
    "    \n",
    "    def draw(self, canvas):\n",
    "        canvas.create_rectangle(self.x-self.width/2,self.y-self.height/2,self.x+self.width/2,self.y+self.height/2, fill='white', tag='car')\n",
    "        \n",
    "    \n",
    "\n",
    "\n",
    "\n",
    "window = Tk()\n",
    "window.title('Auto Car')\n",
    "window.resizable(False,False)\n",
    "\n",
    "canvas = Canvas(window, bg=BACKROUND_COLOR, height=GAME_HEIGHT, width= GAME_WIDTH)\n",
    "canvas.pack()\n",
    "\n",
    "window.update()\n",
    "window_width = window.winfo_width()\n",
    "window_height = window.winfo_height()\n",
    "screen_width = window.winfo_screenwidth()\n",
    "screen_height = window.winfo_screenheight()\n",
    "\n",
    "win_x = int((screen_width/2) - (window_width/2))\n",
    "win_y = int((screen_height/2) - (window_height/2))\n",
    "\n",
    "window.geometry(f'{window_width}x{window_height}+{win_x}+{win_y}')\n",
    "\n",
    "#make the road\n",
    "\n",
    "canvas.create_rectangle( GAME_WIDTH/2 - ROAD_WIDTH/2, 0, GAME_WIDTH/2 + ROAD_WIDTH/2, GAME_HEIGHT, fill=ROAD_COLOR, tag= 'road')\n",
    "\n",
    "ourCar = Car(400,500,50,50)\n",
    "ourCar.draw(canvas)\n",
    "\n",
    "window.mainloop()\n",
    "print(GAME_WIDTH/2 - ROAD_WIDTH/2)\n",
    "\n",
    "# https://www.youtube.com/watch?v=Rs_rAxEsAvI\n",
    "# https://www.youtube.com/watch?v=bfRwxS5d0SI"
   ]
  }
 ],
 "metadata": {
  "kernelspec": {
   "display_name": "Python 3 (ipykernel)",
   "language": "python",
   "name": "python3"
  },
  "language_info": {
   "codemirror_mode": {
    "name": "ipython",
    "version": 3
   },
   "file_extension": ".py",
   "mimetype": "text/x-python",
   "name": "python",
   "nbconvert_exporter": "python",
   "pygments_lexer": "ipython3",
   "version": "3.9.12"
  }
 },
 "nbformat": 4,
 "nbformat_minor": 5
}
